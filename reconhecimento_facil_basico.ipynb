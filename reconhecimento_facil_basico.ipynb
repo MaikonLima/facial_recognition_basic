{
 "cells": [
  {
   "cell_type": "code",
   "execution_count": null,
   "metadata": {},
   "outputs": [],
   "source": [
    "import cv2\n",
    "import mediapipe as mp\n",
    "\n",
    "# inicializar o opencv e o mediapipe\n",
    "webcam cv2.VideoCapture(0)\n",
    "solucao_reconhecimento_rosto = mp.solutions.face_detection \n",
    "reconhecedor_rostos = solucao_reconhecimento_rosto.FaceDetection() \n",
    "desenho = mp.solutions.drawing_utils\n",
    "while True:\n",
    "# Ler as informações da webcam \n",
    "    verificador, frame webcam.read()\n",
    "    if not verificador:\n",
    "    break\n",
    "# reconhecer os rostos que tem ali dentro \n",
    "    lista_rostos reconhecedor_rostos.process(frame)\n",
    "        if lista_rostos.detections:\n",
    "            for rosto in lista_rostos.detections:\n",
    "                # desenhar os rostos na imagem \n",
    "                desenho.draw_detection(frame, rosto)\n",
    "    cv2.imshow(\"Webcam\", frame)\n",
    "    # quando apertar ESC, para o Loop\n",
    "    if cv2.waitKey(5) == 27:\n",
    "    break\n",
    "\n",
    "webcam.release()\n",
    "cv2.destroyAllWindows()"
   ]
  }
 ],
 "metadata": {
  "language_info": {
   "name": "python"
  }
 },
 "nbformat": 4,
 "nbformat_minor": 2
}
